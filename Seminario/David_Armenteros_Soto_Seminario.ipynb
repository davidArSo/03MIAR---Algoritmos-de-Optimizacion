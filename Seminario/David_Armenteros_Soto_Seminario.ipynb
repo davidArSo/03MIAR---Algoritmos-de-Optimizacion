{
  "nbformat": 4,
  "nbformat_minor": 0,
  "metadata": {
    "colab": {
      "provenance": [],
      "include_colab_link": true
    },
    "kernelspec": {
      "name": "python3",
      "display_name": "Python 3"
    }
  },
  "cells": [
    {
      "cell_type": "markdown",
      "metadata": {
        "id": "view-in-github",
        "colab_type": "text"
      },
      "source": [
        "<a href=\"https://colab.research.google.com/github/davidArSo/03MIAR---Algoritmos-de-Optimizacion/blob/master/Seminario/David_Armenteros_Soto_Seminario.ipynb\" target=\"_parent\"><img src=\"https://colab.research.google.com/assets/colab-badge.svg\" alt=\"Open In Colab\"/></a>"
      ]
    },
    {
      "cell_type": "markdown",
      "metadata": {
        "id": "hVbXYX-RfPWh"
      },
      "source": [
        "# **Seminario**\n",
        "*David Armenteros Soto*\n",
        "\n",
        "Link: https://colab.research.google.com/drive/1mH4q8VpUgOQ1FJysFYBWWBkjopM-U5ZR?usp=sharing <br>\n",
        "Github: https://github.com/davidArSo/03MIAR---Algoritmos-de-Optimizacion\n",
        "\n",
        "Problema:\n",
        ">3. Combinar cifras y operaciones\n",
        "\n",
        "Descripción del problema:\n",
        "\n",
        "Disponemos de las 9 cifras del 1 al 9 (excluimos el 0) y de los 4 signos básicos de las operaciones fundamentales: suma(+), resta(-), multiplicación(*) y división(/). Debemos combinarlos alternativamente sin repetir ninguno de ellos para obtener una cantidad dada. Un ejemplo sería para obtener el 4:\n",
        "$$4+2-6/3*1=4$$\n",
        "Se debe analizar el problema para encontrar todos los valores enteros posibles planteando las siguiente cuestiones:\n",
        "- ¿Qué valor máximo y mínimo se pueden obtener según las condiciones del problema?\n",
        "- ¿Es posible encontrar todos los valores enteros posibles entre dicho mínimo y máximo?                              "
      ]
    },
    {
      "cell_type": "markdown",
      "metadata": {
        "id": "3_-exlrTgLd-"
      },
      "source": [
        "**(*)¿Cuantas posibilidades hay sin tener en cuenta las restricciones?**\n",
        "\n",
        "La restricción que se nos plantea es que no se pueden repetir ninguna de las 9 cifras y ninguno de los 4 signos. Por tanto, el número de posibilidades sin tener en cuenta las restricciones se calcula a partir de variaciones con repetición de n elementos tomados de k en k:\n",
        "\n",
        "$$VR_{n,k}=n^k$$\n",
        "\n",
        "El número de posibilidades sin restricciones viene dado por:\n",
        "$$VR_ {9,5} \\cdot VR_{4,4}=9^5 \\cdot 4^4 = 15116544 $$\n"
      ]
    },
    {
      "cell_type": "markdown",
      "source": [
        "**¿Cuantas posibilidades hay teniendo en cuenta todas las restricciones?**\n",
        "\n",
        "Si tenemos en cuenta la restricción anterior, es decir, no repetir ni números ni signos, nos encontramos con que el número de posibilidades se calcula a partir de variaciones sin repetición de n elementos tomados de K en k:\n",
        "$$V_{n,k}=\\dfrac{n!}{(n-k)!}$$\n",
        "El número de posibilidades con restricciones viene dado por:\n",
        "$$V_{9,5} \\cdot V_{4,4} = \\dfrac{9!}{4!} \\cdot \\dfrac{4!}{0!} = 362880$$"
      ],
      "metadata": {
        "id": "JZXlbBVdVz5T"
      }
    },
    {
      "cell_type": "markdown",
      "metadata": {
        "id": "dzynfVJahHoY"
      },
      "source": [
        "**Modelo para el espacio de soluciones:**\n",
        "\n",
        "**(*) ¿Cual es la estructura de datos que mejor se adapta al problema? Argumentalo.(Es posible que hayas elegido una al principio y veas la necesidad de cambiar, argumentalo)**\n",
        "\n",
        "Para resolver el problema planteado se pueden utilizar varias estructuras de datos  dependiendo de la implementación y del enfoque elegido. Una estructura que se adapta correctamente al problema son las listas. Se podría modelar almacenando los número en una lista y los signos en otra. Los elementos de cada una de las listas se intercalarían de tal manera que los signos se encuentran en posiciones pares y los números en posiciones impares. De esta forma, bastaría con evaluar la expresión con los valores intercalados y comprobar la solución obtenida. \n",
        "\n",
        "```\n",
        "numeros = ['1','2','3','4','5','6','7','8','9']\n",
        "signos = ['+','-','*','/']\n",
        "expresion = '4+2-6/3*1'\n",
        "```"
      ]
    },
    {
      "cell_type": "markdown",
      "metadata": {
        "id": "7Z9U2W7bi-XS"
      },
      "source": [
        "**Según el modelo para el espacio de soluciones**\n",
        "\n",
        "**(*)¿Cual es la función objetivo?**\n",
        "\n",
        "En este problema buscamos una solución en concreto, por este motivo, no tenemos ninguna función objetivo ni la manera de cuantificar si nuestra solución se aproxima a la óptima. Las restricciones del problema hacen que pueda tener solución o no.\n",
        "\n",
        "**(*)¿Es un problema de maximización o minimización?**\n",
        "\n",
        "No se trata de un problema de maximización ni minimización, ya que no disponemos de una función objetivo. Se podría enmarcar en un problema de búsqueda, en el que nuestro objetivo es encontrar la solución. \n"
      ]
    },
    {
      "cell_type": "markdown",
      "metadata": {
        "id": "rlnTYgY1j6I2"
      },
      "source": [
        "**Diseña un algoritmo para resolver el problema por fuerza bruta**"
      ]
    },
    {
      "cell_type": "code",
      "metadata": {
        "id": "CJb5sQ0qkENy"
      },
      "source": [
        "#Definición de cifras y signos \n",
        "numeros = ['1','2','3','4','5','6','7','8','9']\n",
        "signos = ['+','-','/','*']"
      ],
      "execution_count": null,
      "outputs": []
    },
    {
      "cell_type": "code",
      "source": [
        "#Cálculo de las variaciones sin repetición de una lista\n",
        "def variaciones_sin_repeticion(lista, k):\n",
        "\n",
        "  if k == 0:\n",
        "    return [[]]\n",
        "  \n",
        "  variaciones_resultantes = []\n",
        "  for i in range(len(lista)):\n",
        "    elemento = lista[i]\n",
        "    sublista = lista[:i] + lista[i+1:]\n",
        "    variaciones = variaciones_sin_repeticion(sublista,k-1)\n",
        "    for v in variaciones:\n",
        "      variaciones_resultantes.append([elemento]+v)\n",
        "\n",
        "  return variaciones_resultantes"
      ],
      "metadata": {
        "id": "PGJJCDVguDRI"
      },
      "execution_count": null,
      "outputs": []
    },
    {
      "cell_type": "code",
      "source": [
        "print(\"El número de variaciones sin repetición de números es: \", len(variaciones_sin_repeticion(numeros,5)))\n",
        "print(\"El número de variaciones sin repetición de signos es: \", len(variaciones_sin_repeticion(signos,4)))"
      ],
      "metadata": {
        "colab": {
          "base_uri": "https://localhost:8080/"
        },
        "id": "bot8fagtuDTs",
        "outputId": "15e84788-0793-4150-fb7d-6eb50b648bbf"
      },
      "execution_count": null,
      "outputs": [
        {
          "output_type": "stream",
          "name": "stdout",
          "text": [
            "El número de variaciones sin repetición de números es:  15120\n",
            "El número de variaciones sin repetición de signos es:  24\n"
          ]
        }
      ]
    },
    {
      "cell_type": "code",
      "source": [
        "#Cálculo de las combinaciones entre números y signos\n",
        "#Los números ocupan posciones impares y los signos posiciones pares\n",
        "def combinaciones_numeros_signos(numeros,signos):\n",
        "  expresion = ''\n",
        "  for i in range(len(signos)):\n",
        "    expresion += numeros[i]\n",
        "    expresion += signos [i]\n",
        "  expresion += numeros[-1]\n",
        "  return expresion"
      ],
      "metadata": {
        "id": "Uk3M3JP20_MF"
      },
      "execution_count": null,
      "outputs": []
    },
    {
      "cell_type": "code",
      "source": [
        "#Para cierto valor, buscamos una expresión\n",
        "def buscar_expresion_FB(nums, sigs, valor):\n",
        "  #Calculamos las variaciones sin repetición de los números y signos\n",
        "  var_numeros = variaciones_sin_repeticion(numeros,5)\n",
        "  var_signos = variaciones_sin_repeticion(signos,4)\n",
        "\n",
        "  #Por cada variación realizamos una combinación de números y signos y comprobamos el resultado\n",
        "  for n in var_numeros:\n",
        "    for s in var_signos:\n",
        "      expresion = combinaciones_numeros_signos(n,s)\n",
        "      if eval(expresion) == valor:\n",
        "        return expresion\n",
        "  return ''"
      ],
      "metadata": {
        "id": "8fnWbD6BuDWb"
      },
      "execution_count": null,
      "outputs": []
    },
    {
      "cell_type": "code",
      "source": [
        "valor = 4\n",
        "print(\"La expresión asociada al valor\", valor, \"es: \", buscar_expresion_FB(numeros,signos,valor))"
      ],
      "metadata": {
        "colab": {
          "base_uri": "https://localhost:8080/"
        },
        "id": "TCnLQ0KpuDZA",
        "outputId": "4d5a51f8-1baf-4191-f757-3003b1314673"
      },
      "execution_count": null,
      "outputs": [
        {
          "output_type": "stream",
          "name": "stdout",
          "text": [
            "La expresión asociada al valor 4 es:  1-2*3/6+4\n"
          ]
        }
      ]
    },
    {
      "cell_type": "code",
      "source": [
        "#Modificando el algoritmo anterior, podemos obtener el valor máximo y mínimo que se alcanzan\n",
        "def max_min_valores_FB(nums, sigs):\n",
        "  #Inicialización del valor máximo, mínimo y expresiones asociadas\n",
        "  min = float('inf')\n",
        "  max = float('-inf')\n",
        "  min_entero = float('inf')\n",
        "  max_entero = float('-inf')\n",
        "  expresion_min = ''\n",
        "  expresion_max = ''\n",
        "  expresion_min_entero = ''\n",
        "  expresion_max_entero = ''\n",
        "\n",
        "  #Calculamos las variaciones sin repetición de los números y signos\n",
        "  var_numeros = variaciones_sin_repeticion(numeros,5)\n",
        "  var_signos = variaciones_sin_repeticion(signos,4)\n",
        "\n",
        "  #Por cada variación realizamos una combinación de números y signos y comprobamos el resultado\n",
        "  for n in var_numeros:\n",
        "    for s in var_signos:\n",
        "      expresion = combinaciones_numeros_signos(n,s)\n",
        "      valor = eval(expresion)\n",
        "\n",
        "      if valor - int(valor) != 0:\n",
        "        if valor < min:\n",
        "          min = valor\n",
        "          expresion_min = expresion\n",
        "        if valor > max:\n",
        "          max = valor\n",
        "          expresion_max = expresion\n",
        "      else:\n",
        "        if valor < min_entero:\n",
        "          min_entero = valor\n",
        "          expresion_min_entero = expresion\n",
        "        if valor > max_entero:\n",
        "          max_entero = valor\n",
        "          expresion_max_entero = expresion\n",
        "\n",
        "  return min, expresion_min, max, expresion_max, min_entero, expresion_min_entero, max_entero, expresion_max_entero"
      ],
      "metadata": {
        "id": "rH2-b9qhuDbc"
      },
      "execution_count": null,
      "outputs": []
    },
    {
      "cell_type": "markdown",
      "source": [
        "¿Qué valor máximo y mínimo se pueden obtener según las condiciones del problema?"
      ],
      "metadata": {
        "id": "glLHeZtLsIWo"
      }
    },
    {
      "cell_type": "code",
      "source": [
        "min, expresion_min, max, expresion_max, min_entero, expresion_min_entero, max_entero, expresion_max_entero = max_min_valores_FB(numeros, signos)\n",
        "print(\"El valor mínimo alcanzado es \", min, \" y su expresión asociada es \", expresion_min)\n",
        "print(\"El valor máximo alcanzado es \", max, \" y su expresión asociada es \", expresion_max)\n",
        "print(\"El valor ENTERO mínimo alcanzado es \", min_entero, \" y su expresión asociada es \", expresion_min_entero)\n",
        "print(\"El valor ENTERO máximo alcanzado es \", max_entero, \" y su expresión asociada es \", expresion_max_entero)"
      ],
      "metadata": {
        "colab": {
          "base_uri": "https://localhost:8080/"
        },
        "id": "OgdxGfkvuDd1",
        "outputId": "a2bd02ef-7478-4470-903d-df777045cb16"
      },
      "execution_count": null,
      "outputs": [
        {
          "output_type": "stream",
          "name": "stdout",
          "text": [
            "El valor mínimo alcanzado es  -70.71428571428571  y su expresión asociada es  1+2/7-8*9\n",
            "El valor máximo alcanzado es  78.83333333333333  y su expresión asociada es  7-1/6+8*9\n",
            "El valor ENTERO mínimo alcanzado es  -69.0  y su expresión asociada es  1+4/2-8*9\n",
            "El valor ENTERO máximo alcanzado es  77.0  y su expresión asociada es  7/1-2+8*9\n"
          ]
        }
      ]
    },
    {
      "cell_type": "markdown",
      "source": [
        "¿Es posible encontrar todos los valores enteros posibles entre dicho mínimo y máximo?"
      ],
      "metadata": {
        "id": "tRNJT8qBsKzG"
      }
    },
    {
      "cell_type": "code",
      "source": [
        "encontrados = []\n",
        "no_encontrados = []\n",
        "\n",
        "for i in range (int(min_entero), int(max_entero)+1):\n",
        "  expresion = buscar_expresion_FB (numeros,signos, i)\n",
        "  if  expresion != '':\n",
        "    encontrados.append(i)\n",
        "  else: \n",
        "    no_encontrados.append(i)\n",
        "\n",
        "print(\"Los valores enteros entre el mínimo y máximo que se han encontrado son: \", encontrados)\n",
        "print(\"Los valores enteros entre el mínimo y máximo que no se han encontrado son: \", no_encontrados)"
      ],
      "metadata": {
        "colab": {
          "base_uri": "https://localhost:8080/"
        },
        "id": "Pr-jzC7-uDgh",
        "outputId": "508766d8-5325-45ee-9387-0e6f624ed5c5"
      },
      "execution_count": null,
      "outputs": [
        {
          "output_type": "stream",
          "name": "stdout",
          "text": [
            "Los valores enteros entre el mínimo y máximo que se han encontrado son:  [-69, -68, -67, -66, -65, -64, -63, -62, -61, -60, -59, -58, -57, -56, -55, -54, -53, -52, -51, -50, -49, -48, -47, -46, -45, -44, -43, -42, -41, -40, -39, -38, -37, -36, -35, -34, -33, -32, -31, -30, -29, -28, -27, -26, -25, -24, -23, -22, -21, -20, -19, -18, -17, -16, -15, -14, -13, -12, -11, -10, -9, -8, -7, -6, -5, -4, -3, -2, -1, 0, 1, 2, 3, 4, 5, 6, 7, 8, 9, 10, 11, 12, 13, 14, 15, 16, 17, 18, 19, 20, 21, 22, 23, 24, 25, 26, 27, 28, 29, 30, 31, 32, 33, 34, 35, 36, 37, 38, 39, 40, 41, 42, 43, 44, 45, 46, 47, 48, 49, 50, 51, 52, 53, 54, 55, 56, 57, 58, 59, 60, 61, 62, 63, 64, 65, 66, 67, 68, 69, 70, 71, 72, 73, 74, 75, 76, 77]\n",
            "Los valores enteros entre el mínimo y máximo que no se han encontrado son:  []\n"
          ]
        }
      ]
    },
    {
      "cell_type": "markdown",
      "source": [
        "Es posible encontrar todos los valores enteros entre el mínimo y el máximo"
      ],
      "metadata": {
        "id": "rIYWFRfd0hhN"
      }
    },
    {
      "cell_type": "markdown",
      "metadata": {
        "id": "tgrnsC2nkFa8"
      },
      "source": [
        "**Calcula la complejidad del algoritmo por fuerza bruta**\n",
        "\n",
        "Este problema tiene un espacio de soluciones finito, en concreto, 362880 posibilidades que es igual a 9!. Esto nos sugiere que la complejidad del algoritmo va a depender de las n! permutaciones posibles. \n",
        "\n",
        "Podemos calcular la complejidad del algoritmo desde otra perspectiva. En primer lugar, vamos a tratar de extender el problema a n. Siendo n el número de operaciones que se realizan. La complejidad de la función que calcula las variaciones de n elementos tomados de k en k sin repetición es de O(n!/(n-k)!).\n",
        "Puesto que llamamos a esta función dos veces (una para los números y otra para los signos) en nuestro algoritmo de fuerza bruta y estas llamadas representan el mayor coste del algoritmo. El orden de complejidad es **0(n!)**. \n"
      ]
    },
    {
      "cell_type": "markdown",
      "metadata": {
        "id": "txbrmLmskReM"
      },
      "source": [
        "**(*)Diseña un algoritmo que mejore la complejidad del algortimo por fuerza bruta. Argumenta porque crees que mejora el algoritmo por fuerza bruta**\n"
      ]
    },
    {
      "cell_type": "markdown",
      "source": [
        "La heurística que se ha planteado mejora la complejidad del diseño por fuerza bruta. El algoritmo utiliza una cola con prioridad para almacenar y ordenar los nodos, donde cada nodo es una expresión matemática posible. \n",
        "\n",
        "El algoritmo comienza creando un nodo raíz y añadiéndolo a la cola con prioridad.  Mientras que la cola no esté vacía, selecciona el nodo con la mayor prioridad (menor distancia objetivo). A continuación, se crean los hijos mediante la combinación de números y signos disponibles. Si el número de elementos de la expresión de un hijo es par, se evalúa la expresión eliminando el último signo. En caso de que sea impar, se evalúa la expresión completa. Si el resultado no es un número flotante, se añade el hijo a la cola de prioridad con la distancia objetivo como su prioridad. Si el resultado es un número flotante, se añade el hijo a la cola con una distancia infinita para darle una prioridad menor. \n",
        "\n",
        "En resumen, la heurística utiliza la evaluación temprana y la priorización de nodos según su distancia objetivo para mejorar el rendimiento del algoritmo en la búsqueda de soluciones. "
      ],
      "metadata": {
        "id": "FfcphaXdNoBS"
      }
    },
    {
      "cell_type": "code",
      "source": [
        "import queue #Librería para utilizar cola como estructura de datos"
      ],
      "metadata": {
        "id": "kLV-XrtF4Xai"
      },
      "execution_count": null,
      "outputs": []
    },
    {
      "cell_type": "code",
      "execution_count": null,
      "metadata": {
        "id": "5m_aD0CH8mmZ"
      },
      "outputs": [],
      "source": [
        "#Crea los hijos de un Nodo\n",
        "def crear_hijos(NODO, numeros, signos):\n",
        "  HIJOS = [] #Lista de hijos\n",
        "  if len(NODO)%2==0:          #Si la longitud del NODO es par                    \n",
        "    for n in numeros:         #Los hijos se forman añadiendo aquellos números no seleccionados \n",
        "      if n not in NODO:\n",
        "        HIJOS.append(NODO+n) \n",
        "  else:                      #Si la longitud del NODO es impar         \n",
        "    for s in signos:         #Los hijos se forman añadiendo aquellos signos no seleccionados\n",
        "      if s not in NODO:\n",
        "        HIJOS.append(NODO+s) \n",
        "\n",
        "  return HIJOS"
      ]
    },
    {
      "cell_type": "code",
      "source": [
        "#Heurística para mejorar el algoritmo de fuerza bruta\n",
        "def buscar_expresion_Heuristico(numeros, signos, valor):\n",
        "  nodoRaiz = ''                 #Expresión del nodo inicial \n",
        "  NODOS = queue.PriorityQueue() #Creación de una cola con prioridad\n",
        "  NODOS.put((0,nodoRaiz))       #Inicialización del nodo raíz\n",
        "\n",
        "  while (not NODOS.empty()):\n",
        "    nodoActual = NODOS.get()                                  #Seleccionamos el nodo\n",
        "    nodosHijos = crear_hijos (nodoActual[1], numeros, signos) #Creamos los hijos para ese nodo (ramificamos)\n",
        "\n",
        "    for h in nodosHijos:\n",
        "      if(len(h)%2==0):                              #Si la longitud del hijo es par\n",
        "        valor_hijo = eval(h[:len(h)-1])                #Evaluamos la expresión menos el último elemento (signo)\n",
        "      else:                                         #Si la longitud del hijo es impar \n",
        "        valor_hijo = eval(h)                           #Evaluamos la expresión completa \n",
        "\n",
        "      if not isinstance(valor_hijo, float):          #Si el valor del hijo no es un float\n",
        "          NODOS.put((abs(valor-valor_hijo),h))         #Añadimos el NODO a la cola con la distancia objetivo\n",
        "      else:                                          #Si el valor del hijo es un float \n",
        "          NODOS.put((float('inf'),h))                  #Añadimos el NODO a la cola con distancia infinito, para darle menos prioridad\n",
        "\n",
        "      if len(h)==len(numeros) and valor_hijo==valor: #Comprobamos si es solución\n",
        "          return h    \n",
        "\n",
        "  return ''"
      ],
      "metadata": {
        "id": "SINa_7zcTTQC"
      },
      "execution_count": null,
      "outputs": []
    },
    {
      "cell_type": "code",
      "source": [
        "#Comprobación de la heurística con todos los valores\n",
        "for i in range(int(min_entero), int(max_entero)+1):\n",
        "  print(\"La expresión asociada al valor\", i, \"es: \", buscar_expresion_Heuristico(numeros,signos,i))"
      ],
      "metadata": {
        "id": "f9GeXfskTTfJ",
        "colab": {
          "base_uri": "https://localhost:8080/"
        },
        "outputId": "b159b120-f35e-493e-b18b-302940890815"
      },
      "execution_count": null,
      "outputs": [
        {
          "output_type": "stream",
          "name": "stdout",
          "text": [
            "La expresión asociada al valor -69 es:  1-9*8+4/2\n",
            "La expresión asociada al valor -68 es:  1-9*8+6/2\n",
            "La expresión asociada al valor -67 es:  2-9*8+3/1\n",
            "La expresión asociada al valor -66 es:  2-9*8+4/1\n",
            "La expresión asociada al valor -65 es:  2-9*8+5/1\n",
            "La expresión asociada al valor -64 es:  2-9*8+6/1\n",
            "La expresión asociada al valor -63 es:  2-9*8+7/1\n",
            "La expresión asociada al valor -62 es:  3-9*8+7/1\n",
            "La expresión asociada al valor -61 es:  4-9*8+7/1\n",
            "La expresión asociada al valor -60 es:  1-9*7+4/2\n",
            "La expresión asociada al valor -59 es:  1-9*7+6/2\n",
            "La expresión asociada al valor -58 es:  1-9*7+8/2\n",
            "La expresión asociada al valor -57 es:  2-9*7+4/1\n",
            "La expresión asociada al valor -56 es:  2-9*7+5/1\n",
            "La expresión asociada al valor -55 es:  2-9*7+6/1\n",
            "La expresión asociada al valor -54 es:  3-9*7+6/1\n",
            "La expresión asociada al valor -53 es:  1-8*7+4/2\n",
            "La expresión asociada al valor -52 es:  1-8*7+6/2\n",
            "La expresión asociada al valor -51 es:  1-9*6+4/2\n",
            "La expresión asociada al valor -50 es:  2-9*6+8/4\n",
            "La expresión asociada al valor -49 es:  1-9*6+8/2\n",
            "La expresión asociada al valor -48 es:  2-9*6+4/1\n",
            "La expresión asociada al valor -47 es:  2-9*6+5/1\n",
            "La expresión asociada al valor -46 es:  3-9*6+5/1\n",
            "La expresión asociada al valor -45 es:  1-8*6+4/2\n",
            "La expresión asociada al valor -44 es:  1-8*6+9/3\n",
            "La expresión asociada al valor -43 es:  2-8*6+3/1\n",
            "La expresión asociada al valor -42 es:  1-9*5+4/2\n",
            "La expresión asociada al valor -41 es:  1-9*5+6/2\n",
            "La expresión asociada al valor -40 es:  1-9*5+8/2\n",
            "La expresión asociada al valor -39 es:  1-7*6+4/2\n",
            "La expresión asociada al valor -38 es:  1-7*6+9/3\n",
            "La expresión asociada al valor -37 es:  1-8*5+4/2\n",
            "La expresión asociada al valor -36 es:  1-8*5+6/2\n",
            "La expresión asociada al valor -35 es:  2-9*5+8/1\n",
            "La expresión asociada al valor -34 es:  2-8*5+4/1\n",
            "La expresión asociada al valor -33 es:  1-9*4+6/3\n",
            "La expresión asociada al valor -32 es:  1-9*4+6/2\n",
            "La expresión asociada al valor -31 es:  1-9*4+8/2\n",
            "La expresión asociada al valor -30 es:  1-7*5+8/2\n",
            "La expresión asociada al valor -29 es:  1-8*4+6/3\n",
            "La expresión asociada al valor -28 es:  1-8*4+6/2\n",
            "La expresión asociada al valor -27 es:  1-6*5+4/2\n",
            "La expresión asociada al valor -26 es:  1-6*5+9/3\n",
            "La expresión asociada al valor -25 es:  1-7*4+6/3\n",
            "La expresión asociada al valor -24 es:  1-9*3+4/2\n",
            "La expresión asociada al valor -23 es:  1-9*3+6/2\n",
            "La expresión asociada al valor -22 es:  1-9*3+8/2\n",
            "La expresión asociada al valor -21 es:  1-8*3+4/2\n",
            "La expresión asociada al valor -20 es:  1-8*3+6/2\n",
            "La expresión asociada al valor -19 es:  1-6*4+8/2\n",
            "La expresión asociada al valor -18 es:  1-7*3+4/2\n",
            "La expresión asociada al valor -17 es:  1-7*3+6/2\n",
            "La expresión asociada al valor -16 es:  1-7*3+8/2\n",
            "La expresión asociada al valor -15 es:  1-9*2+6/3\n",
            "La expresión asociada al valor -14 es:  2-7*3+5/1\n",
            "La expresión asociada al valor -13 es:  1-8*2+6/3\n",
            "La expresión asociada al valor -12 es:  1-8*2+9/3\n",
            "La expresión asociada al valor -11 es:  1-7*2+6/3\n",
            "La expresión asociada al valor -10 es:  1-5*3+8/2\n",
            "La expresión asociada al valor -9 es:  1-6*2+8/4\n",
            "La expresión asociada al valor -8 es:  1-4*3+6/2\n",
            "La expresión asociada al valor -7 es:  1-4*3+8/2\n",
            "La expresión asociada al valor -6 es:  1-8+2*3/6\n",
            "La expresión asociada al valor -5 es:  1-2*4+6/3\n",
            "La expresión asociada al valor -4 es:  1*2-8+6/3\n",
            "La expresión asociada al valor -3 es:  1*2-7+6/3\n",
            "La expresión asociada al valor -2 es:  1*3-7+4/2\n",
            "La expresión asociada al valor -1 es:  1*2-5+6/3\n",
            "La expresión asociada al valor 0 es:  1*3-5+4/2\n",
            "La expresión asociada al valor 1 es:  1*3-5+6/2\n",
            "La expresión asociada al valor 2 es:  1*3-4+6/2\n",
            "La expresión asociada al valor 3 es:  1*6-5+4/2\n",
            "La expresión asociada al valor 4 es:  5*1-3+4/2\n",
            "La expresión asociada al valor 5 es:  6*1-3+4/2\n",
            "La expresión asociada al valor 6 es:  5*1+3-4/2\n",
            "La expresión asociada al valor 7 es:  6*1+3-4/2\n",
            "La expresión asociada al valor 8 es:  7*1+3-4/2\n",
            "La expresión asociada al valor 9 es:  8*1+3-4/2\n",
            "La expresión asociada al valor 10 es:  9*1+3-4/2\n",
            "La expresión asociada al valor 11 es:  8*1+5-4/2\n",
            "La expresión asociada al valor 12 es:  9*1+5-4/2\n",
            "La expresión asociada al valor 13 es:  9*1+6-4/2\n",
            "La expresión asociada al valor 14 es:  9*2-7+3/1\n",
            "La expresión asociada al valor 15 es:  9*2-6+3/1\n",
            "La expresión asociada al valor 16 es:  9*2-5+3/1\n",
            "La expresión asociada al valor 17 es:  9*2-4+3/1\n",
            "La expresión asociada al valor 18 es:  9+6*2-3/1\n",
            "La expresión asociada al valor 19 es:  9*2+4-3/1\n",
            "La expresión asociada al valor 20 es:  9*2+5-3/1\n",
            "La expresión asociada al valor 21 es:  9*2+6-3/1\n",
            "La expresión asociada al valor 22 es:  9*2+7-3/1\n",
            "La expresión asociada al valor 23 es:  9*3-6+2/1\n",
            "La expresión asociada al valor 24 es:  9*3-5+2/1\n",
            "La expresión asociada al valor 25 es:  9*3-4+2/1\n",
            "La expresión asociada al valor 26 es:  9*3+1-4/2\n",
            "La expresión asociada al valor 27 es:  9*3+4-8/2\n",
            "La expresión asociada al valor 28 es:  9*3-1+4/2\n",
            "La expresión asociada al valor 29 es:  9*3+4-2/1\n",
            "La expresión asociada al valor 30 es:  9*3+5-2/1\n",
            "La expresión asociada al valor 31 es:  9*3+6-2/1\n",
            "La expresión asociada al valor 32 es:  9*4-6+2/1\n",
            "La expresión asociada al valor 33 es:  9*4-5+2/1\n",
            "La expresión asociada al valor 34 es:  9*4+1-6/2\n",
            "La expresión asociada al valor 35 es:  9*4-3+2/1\n",
            "La expresión asociada al valor 36 es:  9*4+3-6/2\n",
            "La expresión asociada al valor 37 es:  9*4+3-2/1\n",
            "La expresión asociada al valor 38 es:  9*4+5-3/1\n",
            "La expresión asociada al valor 39 es:  9*4+5-2/1\n",
            "La expresión asociada al valor 40 es:  9*4+6-2/1\n",
            "La expresión asociada al valor 41 es:  9*5-6+2/1\n",
            "La expresión asociada al valor 42 es:  9*5-6+3/1\n",
            "La expresión asociada al valor 43 es:  9*5-4+2/1\n",
            "La expresión asociada al valor 44 es:  9*5+1-4/2\n",
            "La expresión asociada al valor 45 es:  9*5+3-6/2\n",
            "La expresión asociada al valor 46 es:  9*5+3-2/1\n",
            "La expresión asociada al valor 47 es:  9*5+4-2/1\n",
            "La expresión asociada al valor 48 es:  9*5+6-3/1\n",
            "La expresión asociada al valor 49 es:  9*5+6-2/1\n",
            "La expresión asociada al valor 50 es:  9*6-7+3/1\n",
            "La expresión asociada al valor 51 es:  9*6-5+2/1\n",
            "La expresión asociada al valor 52 es:  9*6-4+2/1\n",
            "La expresión asociada al valor 53 es:  9*6+1-4/2\n",
            "La expresión asociada al valor 54 es:  9*6+4-8/2\n",
            "La expresión asociada al valor 55 es:  9*6+3-2/1\n",
            "La expresión asociada al valor 56 es:  9*6+4-2/1\n",
            "La expresión asociada al valor 57 es:  9*6+5-2/1\n",
            "La expresión asociada al valor 58 es:  9*6+7-3/1\n",
            "La expresión asociada al valor 59 es:  9*7-6+2/1\n",
            "La expresión asociada al valor 60 es:  9*7-5+2/1\n",
            "La expresión asociada al valor 61 es:  9*7-4+2/1\n",
            "La expresión asociada al valor 62 es:  9*7+1-4/2\n",
            "La expresión asociada al valor 63 es:  9*7+3-6/2\n",
            "La expresión asociada al valor 64 es:  9*7+3-2/1\n",
            "La expresión asociada al valor 65 es:  9*7+4-2/1\n",
            "La expresión asociada al valor 66 es:  9*7+5-2/1\n",
            "La expresión asociada al valor 67 es:  9*7+6-2/1\n",
            "La expresión asociada al valor 68 es:  9*8-6+2/1\n",
            "La expresión asociada al valor 69 es:  9*8-5+2/1\n",
            "La expresión asociada al valor 70 es:  9*8-4+2/1\n",
            "La expresión asociada al valor 71 es:  9*8+1-4/2\n",
            "La expresión asociada al valor 72 es:  9*8+3-6/2\n",
            "La expresión asociada al valor 73 es:  9*8+3-2/1\n",
            "La expresión asociada al valor 74 es:  9*8+4-2/1\n",
            "La expresión asociada al valor 75 es:  9*8+5-2/1\n",
            "La expresión asociada al valor 76 es:  9*8+6-2/1\n",
            "La expresión asociada al valor 77 es:  9*8+7-2/1\n"
          ]
        }
      ]
    },
    {
      "cell_type": "markdown",
      "source": [
        "La heurística mejora el algoritmo de fuerza bruta al reducir el número de nodos que deben evaluarse para encontrar una solución. El algoritmo de fuerza bruta evalúa todas las posibles combinaciones de números y operaciones, lo que puede llevar mucho tiempo y ser ineficiente. La heurística evita evaluar nodos que no son prometedores, ya que los coloca en la cola con una distancia infinita, lo que significa que se les dará una prioridad menor y por tanto, se evaluarán más tarde. Por lo tanto, la heurística reduce el tiempo necesario para encontrar una solución. \n",
        "\n",
        "Además, al evaluar temprano las expresiones, la heurística puede descartar nodos que no son prometedores. Esto se debe a que puede detectar cuando una expresión producirá un número flotante, lo que significa que no puede ser una solución."
      ],
      "metadata": {
        "id": "j2CVmL0pUJIV"
      }
    },
    {
      "cell_type": "code",
      "source": [
        "import time"
      ],
      "metadata": {
        "id": "0Vzr6686TThs"
      },
      "execution_count": null,
      "outputs": []
    },
    {
      "cell_type": "code",
      "source": [
        "valor = 4\n",
        "start = time.time()\n",
        "expresion = buscar_expresion_FB(numeros,signos,valor)\n",
        "end = time.time()\n",
        "print(\"[Fuerza Bruta] La expresión asociada al valor\", valor, \"es: \", expresion, \" con tiempo \", end - start )"
      ],
      "metadata": {
        "id": "TuUHMJzQ5htL",
        "colab": {
          "base_uri": "https://localhost:8080/"
        },
        "outputId": "dde773fc-7a3d-45d3-fda4-31f69a947e7d"
      },
      "execution_count": null,
      "outputs": [
        {
          "output_type": "stream",
          "name": "stdout",
          "text": [
            "[Fuerza Bruta] La expresión asociada al valor 4 es:  1-2*3/6+4  con tiempo  0.058244943618774414\n"
          ]
        }
      ]
    },
    {
      "cell_type": "code",
      "source": [
        "start = time.time()\n",
        "expresion = buscar_expresion_Heuristico(numeros,signos,valor)\n",
        "end = time.time()\n",
        "print(\"[Heurística] La expresión asociada al valor\", valor, \"es: \", expresion, \" con tiempo \", end - start )"
      ],
      "metadata": {
        "id": "3cbWK7RR5hvs",
        "colab": {
          "base_uri": "https://localhost:8080/"
        },
        "outputId": "4b0bf7ce-10ee-4146-d39d-f4a53bfb7568"
      },
      "execution_count": null,
      "outputs": [
        {
          "output_type": "stream",
          "name": "stdout",
          "text": [
            "[Heurística] La expresión asociada al valor 4 es:  5*1-3+4/2  con tiempo  0.022298336029052734\n"
          ]
        }
      ]
    },
    {
      "cell_type": "markdown",
      "metadata": {
        "id": "eGDB4K6uk1iN"
      },
      "source": [
        "**(*)Calcula la complejidad del algoritmo** \n",
        "\n",
        "Al tratarse de una heurística, la complejidad no se puede calcular de forma directa. Las heurísticas son métodos aproximados que se utilizan para resolver problemas cuando no es posible encontrar una solución exacta en tiempo razonable. Las heurísticas se basan en la intuición y no se pueden analizar de la misma manera que los algoritmos exactos. En lugar de hablar de complejidad, es más común hablar de la calidad en relación al tiempo y espacio utilizado. En el punto anterior se puede ver como la heurística mejora los tiempos con respecto a fuerza bruta.  "
      ]
    },
    {
      "cell_type": "markdown",
      "metadata": {
        "id": "3M6QjTsSkmYe"
      },
      "source": [
        "**Según el problema (y tenga sentido), diseña un juego de datos de entrada aleatorios**"
      ]
    },
    {
      "cell_type": "code",
      "metadata": {
        "id": "sJ-N2etjkyWc"
      },
      "source": [
        "import random #Librería para generar números aleatorios"
      ],
      "execution_count": null,
      "outputs": []
    },
    {
      "cell_type": "code",
      "source": [
        "#Generamos unos datos de entrada aleatorios: Números enteros entre el máximo y el mínimo\n",
        "datos_aleatorios = []\n",
        "num_datos = 5\n",
        "\n",
        "for i in range(num_datos):\n",
        "  datos_aleatorios.append(random.randint(min_entero,max_entero))\n",
        "\n",
        "datos_aleatorios"
      ],
      "metadata": {
        "colab": {
          "base_uri": "https://localhost:8080/"
        },
        "id": "XSvV1uXY0w-7",
        "outputId": "7d8b7c25-1465-4e94-c4f1-d134fc894460"
      },
      "execution_count": null,
      "outputs": [
        {
          "output_type": "execute_result",
          "data": {
            "text/plain": [
              "[5, -33, -8, -26, 5]"
            ]
          },
          "metadata": {},
          "execution_count": 18
        }
      ]
    },
    {
      "cell_type": "markdown",
      "metadata": {
        "id": "zy5ZROmjlGo1"
      },
      "source": [
        "**Aplica el algoritmo al juego de datos generado**"
      ]
    },
    {
      "cell_type": "code",
      "metadata": {
        "id": "Jkx8GeiYlUz1",
        "colab": {
          "base_uri": "https://localhost:8080/"
        },
        "outputId": "c456dd8a-4cec-4e69-dde8-e54f9da8748a"
      },
      "source": [
        "for d in datos_aleatorios:\n",
        "  print(\"--------------------------------------------------\")\n",
        "\n",
        "  start = time.time()\n",
        "  expresion = buscar_expresion_FB(numeros,signos,d)\n",
        "  end = time.time()\n",
        "  print(\"[Fuerza Bruta] La expresión asociada al valor\", d, \"es: \", expresion, \" con tiempo \", end - start )\n",
        "\n",
        "  start = time.time()\n",
        "  expresion = buscar_expresion_Heuristico(numeros,signos,d)\n",
        "  end = time.time()\n",
        "  print(\"[Heurística] La expresión asociada al valor\", d, \"es: \", expresion, \" con tiempo \", end - start )\n"
      ],
      "execution_count": null,
      "outputs": [
        {
          "output_type": "stream",
          "name": "stdout",
          "text": [
            "--------------------------------------------------\n",
            "[Fuerza Bruta] La expresión asociada al valor 5 es:  1-2+3/4*8  con tiempo  0.08970475196838379\n",
            "[Heurística] La expresión asociada al valor 5 es:  6*1-3+4/2  con tiempo  0.017175674438476562\n",
            "--------------------------------------------------\n",
            "[Fuerza Bruta] La expresión asociada al valor -33 es:  1-4*9+6/3  con tiempo  0.1652052402496338\n",
            "[Heurística] La expresión asociada al valor -33 es:  1-9*4+6/3  con tiempo  0.0009829998016357422\n",
            "--------------------------------------------------\n",
            "[Fuerza Bruta] La expresión asociada al valor -8 es:  1-2*6+9/3  con tiempo  0.05628490447998047\n",
            "[Heurística] La expresión asociada al valor -8 es:  1-4*3+6/2  con tiempo  0.0036363601684570312\n",
            "--------------------------------------------------\n",
            "[Fuerza Bruta] La expresión asociada al valor -26 es:  1-5*6+9/3  con tiempo  0.2731754779815674\n",
            "[Heurística] La expresión asociada al valor -26 es:  1-6*5+9/3  con tiempo  0.011247634887695312\n",
            "--------------------------------------------------\n",
            "[Fuerza Bruta] La expresión asociada al valor 5 es:  1-2+3/4*8  con tiempo  0.03219246864318848\n",
            "[Heurística] La expresión asociada al valor 5 es:  6*1-3+4/2  con tiempo  0.018776655197143555\n"
          ]
        }
      ]
    },
    {
      "cell_type": "markdown",
      "metadata": {
        "id": "eTFWUJQrtGcv"
      },
      "source": [
        "**Enumera las referencias que has utilizado(si ha sido necesario) para llevar a cabo el trabajo**\n",
        "\n",
        "Apuntes de la asignatura "
      ]
    },
    {
      "cell_type": "markdown",
      "metadata": {
        "id": "kAkDPUyRtYyH"
      },
      "source": [
        "**Describe brevemente las lineas de como crees que es posible avanzar en el estudio del problema. Ten en cuenta incluso posibles variaciones del problema y/o variaciones al alza del tamaño**\n",
        "\n",
        "Para avanzar en el estudio del problema se podrían seguir diferentes líneas:\n",
        "\n",
        "- **Análisis teórico:** Analizar las propiedades matemáticas de las soluciones óptimas para entender mejor las características del problema tratando de reducir el espacio de búsqueda.\n",
        "- **Mejora de heurísticas:** Proponer nuevas heurísticas para mejorar la existente y obtener soluciones de mayor calidad. Se podrían plantear otras técnicas.\n",
        "- **Variaciones del problema original:** Se podrían estudiar variaciones del problema original. Por ejemplo, proponiendo diferentes datos de entrada en cuanto a números y operaciones, diferentes restricciones, ...\n",
        "  "
      ]
    }
  ]
}
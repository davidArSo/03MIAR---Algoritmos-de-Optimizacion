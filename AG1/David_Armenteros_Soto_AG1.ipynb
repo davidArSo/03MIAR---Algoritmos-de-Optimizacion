{
  "nbformat": 4,
  "nbformat_minor": 0,
  "metadata": {
    "colab": {
      "provenance": [],
      "include_colab_link": true
    },
    "kernelspec": {
      "name": "python3",
      "display_name": "Python 3"
    },
    "language_info": {
      "name": "python"
    }
  },
  "cells": [
    {
      "cell_type": "markdown",
      "metadata": {
        "id": "view-in-github",
        "colab_type": "text"
      },
      "source": [
        "<a href=\"https://colab.research.google.com/github/davidArSo/03MIAR---Algoritmos-de-Optimizacion/blob/master/AG1/David_Armenteros_Soto_AG1.ipynb\" target=\"_parent\"><img src=\"https://colab.research.google.com/assets/colab-badge.svg\" alt=\"Open In Colab\"/></a>"
      ]
    },
    {
      "cell_type": "markdown",
      "metadata": {
        "id": "GG2D6vLdYwwy"
      },
      "source": [
        "# **Actividad Guiada 1**\n",
        "\n",
        "*David Armenteros Soto*\n",
        "\n",
        "Link: https://colab.research.google.com/drive/1Cxi2zKck2bNvOcfTXiWx6cCPwSF5JwEX?usp=sharing <br>\n",
        "Github: https://github.com/davidArSo/03MIAR---Algoritmos-de-Optimizacion"
      ]
    },
    {
      "cell_type": "markdown",
      "source": [
        "## **Divide y vencerás: Torres de Hanoi**\n",
        "\n",
        "En la técnica de divide y vencerás es posible dividir el problema principal recursivamente en subproblemas más pequeños similares al original o sencillos de resolver.\n",
        "\n",
        "Las características que permiten identificar problemas aplicables son:\n",
        "\n",
        "*   El problema puede ser descompuesto en problemas más pequeños de la misma naturaleza que el principal.\n",
        "*   Es posible resolver estos subproblemas de manera recursiva o de otra manera sencilla.\n",
        "*   Es posible combinar las soluciones de los subproblemas para componer la solución al problema principal. \n",
        "*   Los subproblemas son disjuntos entre sí. No hay solapamiento entre ellos.  \n",
        "*   Debemos asegurar que el proceso de divisiones recursivas finaliza en algún momento. \n",
        "\n",
        "**Problema: Torres de Hanoi** \n",
        "\n",
        "El problema de las Torres de Hanoi consiste en mover un conjunto de discos de una torre a otra, siguiendo un conjunto de reglas:\n",
        "\n",
        "*   Solo es posible mover las fichas de una en una.\n",
        "*   No se puede colocar un disco mayor encima de uno menor.\n",
        "*   Es posible usar una torre de pivote. "
      ],
      "metadata": {
        "id": "V4ZZIKUhe_5b"
      }
    },
    {
      "cell_type": "code",
      "metadata": {
        "id": "rTiqLuX2ZKuL",
        "outputId": "d94ff24d-5c36-4bf2-dd99-8f873fc4adde",
        "colab": {
          "base_uri": "https://localhost:8080/",
          "height": 0
        }
      },
      "source": [
        "def Torres_Hanoi(N, desde, hasta):\n",
        "  #N: Nº de discos\n",
        "  #desde: torre inicial\n",
        "  #hasta: torre final\n",
        "\n",
        "  if N==1 :\n",
        "    print(\"Lleva la ficha desde \" + str(desde) + \" hasta \" + str(hasta))\n",
        "\n",
        "  else:\n",
        "    Torres_Hanoi(N-1, desde, 6-desde-hasta) #Movemos N-1 discos desde la torre inicial hasta la torre pivote\n",
        "    print(\"Lleva la ficha desde \" + str(desde) + \" hasta \" + str(hasta))\n",
        "    Torres_Hanoi(N-1, 6-desde-hasta,  hasta) #Movemos N-1 discos desde la torre pivote hasta la torre final \n",
        "\n",
        "Torres_Hanoi(4, 1, 3)"
      ],
      "execution_count": 1,
      "outputs": [
        {
          "output_type": "stream",
          "name": "stdout",
          "text": [
            "Lleva la ficha desde 1 hasta 2\n",
            "Lleva la ficha desde 1 hasta 3\n",
            "Lleva la ficha desde 2 hasta 3\n",
            "Lleva la ficha desde 1 hasta 2\n",
            "Lleva la ficha desde 3 hasta 1\n",
            "Lleva la ficha desde 3 hasta 2\n",
            "Lleva la ficha desde 1 hasta 2\n",
            "Lleva la ficha desde 1 hasta 3\n",
            "Lleva la ficha desde 2 hasta 3\n",
            "Lleva la ficha desde 2 hasta 1\n",
            "Lleva la ficha desde 3 hasta 1\n",
            "Lleva la ficha desde 2 hasta 3\n",
            "Lleva la ficha desde 1 hasta 2\n",
            "Lleva la ficha desde 1 hasta 3\n",
            "Lleva la ficha desde 2 hasta 3\n"
          ]
        }
      ]
    },
    {
      "cell_type": "markdown",
      "source": [
        "## **Técnica voraz: Cambio de monedas**\n",
        "\n",
        "La técnica voraz se basa en la división del problema por etapas, eligiendo en cada etapa una decisión para construir la solución que resulte la más adecuada o ambiciosa sin considerar las consecuencias. Las decisiones descartadas lo serán para siempre. En definitiva, elegir en cada etapa la decisión óptima. \n",
        "\n",
        "Las características que permiten identificar problemas aplicables son: \n",
        "\n",
        "*   Conjunto de candidatos (elementos seleccionables por etapas).\n",
        "*   Solución parcial.\n",
        "*   Función de selección para determinar el mejor candidato en cada etapa.\n",
        "*   Función objetivo.\n",
        "*   Función de factibilidad que asegure que una selección parcial es\n",
        "“prometedora”.\n",
        "*   Criterio o función que compruebe que una solución parcial ya es una\n",
        "solución final.\n",
        "\n",
        "**Problema: Cambio de Monedas**\n",
        "\n",
        "Dado un sistema monetario $(1, v_1, v_2, ..., v_n)$ descomponer cualquier cantidad $C$ de manera que usemos el menor número de monedas. La aplicación de la técnica voraz es eficiente bajo algunos supuestos:\n",
        "\n",
        "*   Debe existir el valor unitario en el conjunto de monedas para que sea posible obtener todas las cantidades.\n",
        "*   Disponemos de una cantidad infinita de monedas.\n",
        "*   La voracidad no es eficiente en todos los sistemas monetarios.\n"
      ],
      "metadata": {
        "id": "EsIj5XeIgZGv"
      }
    },
    {
      "cell_type": "code",
      "metadata": {
        "id": "YwBudj2hYoMR"
      },
      "source": [
        "def cambio_monedas(CANTIDAD,SISTEMA):\n",
        "  #CANTIDAD: cantidad a cambiar\n",
        "  #SISTEMA: sistema monetario\n",
        "\n",
        "  SOLUCION = [0]*len(SISTEMA)       #Inicializamos el array que contendrá la cantidad de monedas de cada valor\n",
        "  ValorAcumulado = 0                #Inicializamos el valor acumulado \n",
        "\n",
        "  for i,valor in enumerate(SISTEMA):                  #Recorremos el sistema monetario\n",
        "    monedas = (CANTIDAD-ValorAcumulado)//valor        #Calculamos la cantidad de monedas de valor SISTEMA[i]\n",
        "    SOLUCION[i] = monedas                             #Guardamos el número de monedas en la solución \n",
        "    ValorAcumulado = ValorAcumulado + monedas*valor   #Incrementamos el valor acumulado\n",
        "\n",
        "    if CANTIDAD == ValorAcumulado:                    #Finalizamos si hemos llegado a la solución \n",
        "      return SOLUCION\n",
        "\n",
        "  print(\"No es posible encontrar solucion\") "
      ],
      "execution_count": 2,
      "outputs": []
    },
    {
      "cell_type": "code",
      "source": [
        "SISTEMA = [25, 10 ,5, 1]\n",
        "cambio_monedas(27,SISTEMA)"
      ],
      "metadata": {
        "colab": {
          "base_uri": "https://localhost:8080/",
          "height": 0
        },
        "id": "E1o4gAhGj_fe",
        "outputId": "f5bd14f3-bee6-491a-dbf7-7e73057b1337"
      },
      "execution_count": 3,
      "outputs": [
        {
          "output_type": "execute_result",
          "data": {
            "text/plain": [
              "[1, 0, 0, 2]"
            ]
          },
          "metadata": {},
          "execution_count": 3
        }
      ]
    },
    {
      "cell_type": "code",
      "source": [
        "SISTEMA = [11, 5 , 1]\n",
        "cambio_monedas(15,SISTEMA)"
      ],
      "metadata": {
        "colab": {
          "base_uri": "https://localhost:8080/",
          "height": 0
        },
        "id": "R54LPXPJj_rT",
        "outputId": "8598a465-6c0d-40c7-f08b-834ad3486a02"
      },
      "execution_count": 4,
      "outputs": [
        {
          "output_type": "execute_result",
          "data": {
            "text/plain": [
              "[1, 0, 4]"
            ]
          },
          "metadata": {},
          "execution_count": 4
        }
      ]
    },
    {
      "cell_type": "markdown",
      "source": [
        "## **Vuelta Atrás: N Reinas**\n",
        "\n",
        "La vuelta atrás o backtracking consiste en la construcción sistemática y por etapas de todas las soluciones posibles que pueden representarse mediante una tupla $(x_1, x_2, ..., x_n)$ en la que cada componente $x_i$ puede explorarse en la etapa i-ésima. El espacio de soluciones se modela a través de un árbol de expansión. \n",
        "\n",
        "Las características que permiten identificar problemas aplicables:\n",
        "\n",
        "*   Problemas discretos en los que las soluciones se componen de elementos que pueden ser relacionados para expresarlos en un árbol de expansión.\n",
        "*   Es posible encontrar un criterio para descartar determinadas ramas (ramificación y poda) y evitar un análisis exhaustivo (fuerza bruta).\n",
        "\n",
        "**Problema: N reinas**\n",
        "\n",
        "El problema de las N reinas consiste en colocar N reinas en un tablero de ajedrez NxN de tal manera que ninguna reina ataque a otra. Una reina ataca a otra si está en la misma fila, columna o diagonal. El objetivo es encontrar una disposición válida en el tablero. "
      ],
      "metadata": {
        "id": "A8UXU3OVkKY4"
      }
    },
    {
      "cell_type": "code",
      "metadata": {
        "id": "H4Iwt2XRZTFr",
        "colab": {
          "base_uri": "https://localhost:8080/",
          "height": 0
        },
        "outputId": "85b811b1-2cf9-4e81-ec84-2381b10f5294"
      },
      "source": [
        "#Verifica que en la solución parcial no hay amenzas entre reinas\n",
        "def es_prometedora(SOLUCION,etapa):\n",
        "\n",
        "  #print(SOLUCION)\n",
        "  #Si la solución tiene dos valores iguales no es valida => Dos reinas en la misma fila\n",
        "  for i in range(etapa+1):\n",
        "    #print(\"El valor \" + str(SOLUCION[i]) + \" está \" +  str(SOLUCION.count(SOLUCION[i])) + \" veces\")\n",
        "    if SOLUCION.count(SOLUCION[i]) > 1:       \n",
        "      return False\n",
        "  \n",
        "    #Verifica las diagonales\n",
        "    for j in range(i+1, etapa +1 ):\n",
        "      #print(\"Comprobando diagonal de \" + str(i) + \" y \" + str(j))\n",
        "      if abs(i-j) == abs(SOLUCION[i]-SOLUCION[j]) : return False\n",
        "  return True\n",
        "\n",
        "#Traduce la solución al tablero\n",
        "def escribe_solucion(S):\n",
        "\n",
        "  n = len(S)\n",
        "  for x in range(n):\n",
        "    print(\"\")\n",
        "    for i in range(n):\n",
        "      if S[i] == x+1:\n",
        "        print(\" X \" , end=\"\")\n",
        "      else:\n",
        "        print(\" - \", end=\"\")\n",
        "\n",
        "#Proceso principal de N-Reinas\n",
        "def reinas(N, solucion=[],etapa=0): \n",
        "\n",
        "  if len(solucion) == 0:         # [0,0,0...]\n",
        "    solucion = [0 for i in range(N) ]\n",
        "  \n",
        "  for i in range(1, N+1):\n",
        "    solucion[etapa] = i\n",
        "    if es_prometedora(solucion, etapa):\n",
        "      if etapa == N-1:\n",
        "        print(solucion)\n",
        "      else:  \n",
        "        reinas(N, solucion, etapa+1)\n",
        "    else:\n",
        "      None\n",
        "  \n",
        "  solucion[etapa] = 0\n",
        "\n",
        "reinas(8,solucion=[],etapa=0)"
      ],
      "execution_count": 5,
      "outputs": [
        {
          "output_type": "stream",
          "name": "stdout",
          "text": [
            "[1, 5, 8, 6, 3, 7, 2, 4]\n",
            "[1, 6, 8, 3, 7, 4, 2, 5]\n",
            "[1, 7, 4, 6, 8, 2, 5, 3]\n",
            "[1, 7, 5, 8, 2, 4, 6, 3]\n",
            "[2, 4, 6, 8, 3, 1, 7, 5]\n",
            "[2, 5, 7, 1, 3, 8, 6, 4]\n",
            "[2, 5, 7, 4, 1, 8, 6, 3]\n",
            "[2, 6, 1, 7, 4, 8, 3, 5]\n",
            "[2, 6, 8, 3, 1, 4, 7, 5]\n",
            "[2, 7, 3, 6, 8, 5, 1, 4]\n",
            "[2, 7, 5, 8, 1, 4, 6, 3]\n",
            "[2, 8, 6, 1, 3, 5, 7, 4]\n",
            "[3, 1, 7, 5, 8, 2, 4, 6]\n",
            "[3, 5, 2, 8, 1, 7, 4, 6]\n",
            "[3, 5, 2, 8, 6, 4, 7, 1]\n",
            "[3, 5, 7, 1, 4, 2, 8, 6]\n",
            "[3, 5, 8, 4, 1, 7, 2, 6]\n",
            "[3, 6, 2, 5, 8, 1, 7, 4]\n",
            "[3, 6, 2, 7, 1, 4, 8, 5]\n",
            "[3, 6, 2, 7, 5, 1, 8, 4]\n",
            "[3, 6, 4, 1, 8, 5, 7, 2]\n",
            "[3, 6, 4, 2, 8, 5, 7, 1]\n",
            "[3, 6, 8, 1, 4, 7, 5, 2]\n",
            "[3, 6, 8, 1, 5, 7, 2, 4]\n",
            "[3, 6, 8, 2, 4, 1, 7, 5]\n",
            "[3, 7, 2, 8, 5, 1, 4, 6]\n",
            "[3, 7, 2, 8, 6, 4, 1, 5]\n",
            "[3, 8, 4, 7, 1, 6, 2, 5]\n",
            "[4, 1, 5, 8, 2, 7, 3, 6]\n",
            "[4, 1, 5, 8, 6, 3, 7, 2]\n",
            "[4, 2, 5, 8, 6, 1, 3, 7]\n",
            "[4, 2, 7, 3, 6, 8, 1, 5]\n",
            "[4, 2, 7, 3, 6, 8, 5, 1]\n",
            "[4, 2, 7, 5, 1, 8, 6, 3]\n",
            "[4, 2, 8, 5, 7, 1, 3, 6]\n",
            "[4, 2, 8, 6, 1, 3, 5, 7]\n",
            "[4, 6, 1, 5, 2, 8, 3, 7]\n",
            "[4, 6, 8, 2, 7, 1, 3, 5]\n",
            "[4, 6, 8, 3, 1, 7, 5, 2]\n",
            "[4, 7, 1, 8, 5, 2, 6, 3]\n",
            "[4, 7, 3, 8, 2, 5, 1, 6]\n",
            "[4, 7, 5, 2, 6, 1, 3, 8]\n",
            "[4, 7, 5, 3, 1, 6, 8, 2]\n",
            "[4, 8, 1, 3, 6, 2, 7, 5]\n",
            "[4, 8, 1, 5, 7, 2, 6, 3]\n",
            "[4, 8, 5, 3, 1, 7, 2, 6]\n",
            "[5, 1, 4, 6, 8, 2, 7, 3]\n",
            "[5, 1, 8, 4, 2, 7, 3, 6]\n",
            "[5, 1, 8, 6, 3, 7, 2, 4]\n",
            "[5, 2, 4, 6, 8, 3, 1, 7]\n",
            "[5, 2, 4, 7, 3, 8, 6, 1]\n",
            "[5, 2, 6, 1, 7, 4, 8, 3]\n",
            "[5, 2, 8, 1, 4, 7, 3, 6]\n",
            "[5, 3, 1, 6, 8, 2, 4, 7]\n",
            "[5, 3, 1, 7, 2, 8, 6, 4]\n",
            "[5, 3, 8, 4, 7, 1, 6, 2]\n",
            "[5, 7, 1, 3, 8, 6, 4, 2]\n",
            "[5, 7, 1, 4, 2, 8, 6, 3]\n",
            "[5, 7, 2, 4, 8, 1, 3, 6]\n",
            "[5, 7, 2, 6, 3, 1, 4, 8]\n",
            "[5, 7, 2, 6, 3, 1, 8, 4]\n",
            "[5, 7, 4, 1, 3, 8, 6, 2]\n",
            "[5, 8, 4, 1, 3, 6, 2, 7]\n",
            "[5, 8, 4, 1, 7, 2, 6, 3]\n",
            "[6, 1, 5, 2, 8, 3, 7, 4]\n",
            "[6, 2, 7, 1, 3, 5, 8, 4]\n",
            "[6, 2, 7, 1, 4, 8, 5, 3]\n",
            "[6, 3, 1, 7, 5, 8, 2, 4]\n",
            "[6, 3, 1, 8, 4, 2, 7, 5]\n",
            "[6, 3, 1, 8, 5, 2, 4, 7]\n",
            "[6, 3, 5, 7, 1, 4, 2, 8]\n",
            "[6, 3, 5, 8, 1, 4, 2, 7]\n",
            "[6, 3, 7, 2, 4, 8, 1, 5]\n",
            "[6, 3, 7, 2, 8, 5, 1, 4]\n",
            "[6, 3, 7, 4, 1, 8, 2, 5]\n",
            "[6, 4, 1, 5, 8, 2, 7, 3]\n",
            "[6, 4, 2, 8, 5, 7, 1, 3]\n",
            "[6, 4, 7, 1, 3, 5, 2, 8]\n",
            "[6, 4, 7, 1, 8, 2, 5, 3]\n",
            "[6, 8, 2, 4, 1, 7, 5, 3]\n",
            "[7, 1, 3, 8, 6, 4, 2, 5]\n",
            "[7, 2, 4, 1, 8, 5, 3, 6]\n",
            "[7, 2, 6, 3, 1, 4, 8, 5]\n",
            "[7, 3, 1, 6, 8, 5, 2, 4]\n",
            "[7, 3, 8, 2, 5, 1, 6, 4]\n",
            "[7, 4, 2, 5, 8, 1, 3, 6]\n",
            "[7, 4, 2, 8, 6, 1, 3, 5]\n",
            "[7, 5, 3, 1, 6, 8, 2, 4]\n",
            "[8, 2, 4, 1, 7, 5, 3, 6]\n",
            "[8, 2, 5, 3, 1, 7, 4, 6]\n",
            "[8, 3, 1, 6, 2, 5, 7, 4]\n",
            "[8, 4, 1, 3, 6, 2, 7, 5]\n"
          ]
        }
      ]
    },
    {
      "cell_type": "code",
      "metadata": {
        "id": "eTZclKH9QV0R",
        "colab": {
          "base_uri": "https://localhost:8080/",
          "height": 0
        },
        "outputId": "21bcfe1b-4410-47ed-8934-8e39f73719f5"
      },
      "source": [
        "escribe_solucion([1, 5, 8, 6, 3, 7, 2, 4])"
      ],
      "execution_count": 6,
      "outputs": [
        {
          "output_type": "stream",
          "name": "stdout",
          "text": [
            "\n",
            " X  -  -  -  -  -  -  - \n",
            " -  -  -  -  -  -  X  - \n",
            " -  -  -  -  X  -  -  - \n",
            " -  -  -  -  -  -  -  X \n",
            " -  X  -  -  -  -  -  - \n",
            " -  -  -  X  -  -  -  - \n",
            " -  -  -  -  -  X  -  - \n",
            " -  -  X  -  -  -  -  - "
          ]
        }
      ]
    },
    {
      "cell_type": "markdown",
      "source": [
        "## **Práctica Individual: Encontrar los dos puntos más cercanos**"
      ],
      "metadata": {
        "id": "BoYHLutme93b"
      }
    },
    {
      "cell_type": "markdown",
      "source": [
        "1. Resolución mediante fuerza bruta para el problema en 1D, 2D y 3D. "
      ],
      "metadata": {
        "id": "-GJ1Nkz8gT_h"
      }
    },
    {
      "cell_type": "code",
      "source": [
        "import math \n",
        "#Puntos más cercanos con fuerza bruta\n",
        "def puntosMasCercanos_FuerzaBruta (lista_puntos):\n",
        "  #lista_puntos: lista de números en 1D\n",
        "\n",
        "  n = len(lista_puntos)        #Longitud de la lista de números\n",
        "  min_distancia = float('inf') #Inicializamos la distancia mínima a infinito \n",
        "  puntos = []                  #Array con los dos puntos más cercanos \n",
        "\n",
        "  if n < 2:\n",
        "    return [], None\n",
        "\n",
        "  #Recorremos la lista de puntos de 1D\n",
        "  for i in range(n):\n",
        "    for j in range(i+1, n):\n",
        "      distancia = math.dist(lista_puntos[i], lista_puntos[j])  #Calculamos la distancia entre dos números\n",
        "\n",
        "      if distancia < min_distancia:                     #Si la distancia es menor que la distancia mínima ... \n",
        "        min_distancia = distancia                       #Actualizamos la distancia\n",
        "        puntos = [lista_puntos[i],lista_puntos[j]]      #Actualizamos los puntos más cercanos\n",
        "\n",
        "  return puntos, min_distancia "
      ],
      "metadata": {
        "id": "zUW4xqnRvBWA"
      },
      "execution_count": 7,
      "outputs": []
    },
    {
      "cell_type": "code",
      "source": [
        "#Utilizamos la librería random para generar un conjunto de datos aleatorios\n",
        "import random\n",
        "\n",
        "lista_1D = [[random.randrange(1,10000)] for x in range(10)]\n",
        "lista_2D = [[random.randrange(1,10000), random.randrange(1,10000) ] for x in range(10)]\n",
        "lista_3D = [[random.randrange(1,10000), random.randrange(1,10000), random.randrange(1,10000) ] for x in range(10)]\n"
      ],
      "metadata": {
        "id": "6CghaQBXvRgA"
      },
      "execution_count": 8,
      "outputs": []
    },
    {
      "cell_type": "code",
      "source": [
        "#Fuerza bruta para lista de 1D\n",
        "print('Lista 1D: ', lista_1D)\n",
        "p, d = puntosMasCercanos_FuerzaBruta (lista_1D)\n",
        "print( \"Los puntos más cercanos son: \", p)\n",
        "print( \"La distancia mínima es: \", d)"
      ],
      "metadata": {
        "colab": {
          "base_uri": "https://localhost:8080/",
          "height": 0
        },
        "id": "OtkPjX4iv9wk",
        "outputId": "3a88747d-45fe-4e34-d918-f89f90c5d3f3"
      },
      "execution_count": 9,
      "outputs": [
        {
          "output_type": "stream",
          "name": "stdout",
          "text": [
            "Lista 1D:  [[2356], [7615], [5661], [9762], [3314], [957], [1925], [7100], [9265], [1106]]\n",
            "Los puntos más cercanos son:  [[957], [1106]]\n",
            "La distancia mínima es:  149.0\n"
          ]
        }
      ]
    },
    {
      "cell_type": "code",
      "source": [
        "#Fuerza bruta para lista de 2D\n",
        "print('Lista 2D: ', lista_2D)\n",
        "p, d = puntosMasCercanos_FuerzaBruta (lista_2D)\n",
        "print( \"Los puntos más cercanos son: \", p)\n",
        "print( \"La distancia mínima es: \", d)"
      ],
      "metadata": {
        "colab": {
          "base_uri": "https://localhost:8080/",
          "height": 0
        },
        "id": "L5_twcq_v97K",
        "outputId": "e5db1e5d-a5cf-48cf-c0ea-94e64766ec51"
      },
      "execution_count": 10,
      "outputs": [
        {
          "output_type": "stream",
          "name": "stdout",
          "text": [
            "Lista 2D:  [[8975, 677], [9335, 6518], [2946, 9558], [1364, 8368], [3523, 693], [7429, 2264], [783, 2078], [3576, 2415], [5448, 269], [7515, 4395]]\n",
            "Los puntos más cercanos son:  [[3523, 693], [3576, 2415]]\n",
            "La distancia mínima es:  1722.8154283033339\n"
          ]
        }
      ]
    },
    {
      "cell_type": "code",
      "source": [
        "#Fuerza bruta para lista de 3D\n",
        "print('Lista 3D: ', lista_3D)\n",
        "p, d = puntosMasCercanos_FuerzaBruta (lista_3D)\n",
        "print( \"Los puntos más cercanos son: \", p)\n",
        "print( \"La distancia mínima es: \", d)"
      ],
      "metadata": {
        "colab": {
          "base_uri": "https://localhost:8080/",
          "height": 0
        },
        "id": "PPHKp5nev-Co",
        "outputId": "a576e961-d6d9-4de9-bbe7-12394238020b"
      },
      "execution_count": 11,
      "outputs": [
        {
          "output_type": "stream",
          "name": "stdout",
          "text": [
            "Lista 3D:  [[3323, 7531, 9559], [8353, 9769, 1788], [1174, 2368, 9189], [5316, 227, 1449], [9750, 7635, 3065], [9791, 1626, 2546], [1859, 43, 8410], [5170, 5589, 3893], [2268, 9642, 2292], [2772, 4644, 2194]]\n",
            "Los puntos más cercanos son:  [[1174, 2368, 9189], [1859, 43, 8410]]\n",
            "La distancia mínima es:  2545.9165343742125\n"
          ]
        }
      ]
    },
    {
      "cell_type": "markdown",
      "source": [
        "2. Cálculo de la complejidad. ¿Se puede mejorar? \n",
        "\n",
        "Sea n el número de puntos de 1D de nuestro problema. Para obtener la complejidad del algoritmo de fuerza brutal, calculamos el número de operaciones c(n) que se realizan para una lista de tamaño n:\n",
        "\n",
        "$$c(n) = \\sum_{i=1}^n\\sum_{j=i+1}^n 1 = \\sum_{i=1}^n n - i = \\sum_{i=1}^n n - \\sum_{i=1}^n i = n^2 - \\frac{1}{2}n(n+1) = \\frac{n^2-n}{2}$$\n",
        "\n",
        "El coste computacional del algoritmo es **O(n^2)** ya que:\n",
        "$$ \\lim_{n \\rightarrow ∞} \\frac{c(n)}{n^2} = \\frac{1}{2} \\in ]0, ∞[$$\n",
        "\n",
        "Se podría mejorar la complejidad aplicando la técnica de divide y vencerás.\n"
      ],
      "metadata": {
        "id": "3rqBkNTCaCFp"
      }
    },
    {
      "cell_type": "markdown",
      "source": [
        "3. Resolución mediante divide y vencerás. "
      ],
      "metadata": {
        "id": "VU_duo8Zu5iG"
      }
    },
    {
      "cell_type": "code",
      "source": [
        "#Función de puntos más cercanos en un intervalo por fuerza bruta\n",
        "def puntosMasCercanosEnIntervalo_FuerzaBruta(lista_puntos, dist , linf, lsup):\n",
        "\n",
        "  min_distancia = dist #Inicializamos la mínima distancia\n",
        "  puntos = [] #Inicializamos los puntos\n",
        "\n",
        "  #Recorremos la lista de puntos dentro de un límite inferior y superior\n",
        "  for i in range(linf,lsup+1): \n",
        "    for j in range(i+1,lsup+1):\n",
        "      distancia = math.dist(lista_puntos[i],lista_puntos[j]) #Calculamos la distancia por cada par de puntos\n",
        "      if distancia < min_distancia: #Nos quedamos con aquellos con distancia mínima\n",
        "        puntos = [lista_puntos[i],lista_puntos[j]]\n",
        "        min_distancia = distancia\n",
        "  return puntos, min_distancia"
      ],
      "metadata": {
        "id": "WjLTE5eW0kbW"
      },
      "execution_count": 12,
      "outputs": []
    },
    {
      "cell_type": "code",
      "source": [
        "#Técnica de divide y vencerás para puntos más cercanos \n",
        "def puntosMasCercanos_DivideVenceras(lista_puntos, linf , lsup):\n",
        "\n",
        "  #Si la longitud del intervalo es menor que tres ... \n",
        "  if(lsup-linf<=3):\n",
        "    return puntosMasCercanosEnIntervalo_FuerzaBruta(lista_puntos, math.inf, linf, lsup ) #Aplicamos fuerza bruta\n",
        "  else:  \n",
        "    punto_medio = (lsup+linf)//2 #Hallamos el punto medio \n",
        "    puntos_izq, dist_izq = puntosMasCercanos_DivideVenceras(lista_puntos,linf,punto_medio) #Llamamos recursivamente a la función para la mitad izquierda\n",
        "    puntos_der, dist_der = puntosMasCercanos_DivideVenceras(lista_puntos,punto_medio,lsup) #Llamamos recursivamente a la función para la mitad derecha \n",
        "\n",
        "    #Nos quedamos con los puntos con distancia mínima\n",
        "    if dist_izq <= dist_der:\n",
        "      puntos = puntos_izq\n",
        "      d = dist_izq\n",
        "    else:\n",
        "      puntos = puntos_der\n",
        "      d = dist_der\n",
        "\n",
        "    strip = []\n",
        "    for i in range(linf,lsup+1):\n",
        "        if math.dist(lista_puntos[i],lista_puntos[punto_medio]) < d:\n",
        "            strip.append(lista_puntos[i])\n",
        "    p, min_distancia = puntosMasCercanosEnIntervalo_FuerzaBruta(strip,d,0,len(strip)-1)\n",
        "    if p == []:\n",
        "      return puntos, d\n",
        "    else:\n",
        "      return p, min_distancia"
      ],
      "metadata": {
        "id": "3x2V6vARxYAh"
      },
      "execution_count": 13,
      "outputs": []
    },
    {
      "cell_type": "code",
      "source": [
        "p, d = puntosMasCercanos_DivideVenceras(sorted(lista_1D), 0, len(lista_1D) - 1)\n",
        "print( \"Los puntos más cercanos son: \", p)\n",
        "print( \"La distancia mínima es: \", d)"
      ],
      "metadata": {
        "colab": {
          "base_uri": "https://localhost:8080/",
          "height": 0
        },
        "id": "VZy_2JxYxYGm",
        "outputId": "f80b4fda-6f60-4804-a410-692e99d0d354"
      },
      "execution_count": 14,
      "outputs": [
        {
          "output_type": "stream",
          "name": "stdout",
          "text": [
            "Los puntos más cercanos son:  [[957], [1106]]\n",
            "La distancia mínima es:  149.0\n"
          ]
        }
      ]
    },
    {
      "cell_type": "markdown",
      "source": [
        "3. Cálculo de la complejidad. ¿Se puede mejorar? \n",
        "\n",
        "Sea n el número de puntos de 1D de nuestro problema. Para obtener la complejidad del algoritmo de divide y vencerás, tenemos que tener en cuenta que se realiza una ordenación previa de orden O(nlog(n)). Será necesario calcular el número de operaciones c(n) que se realizan para una lista de tamaño n: \n",
        "\n",
        "$$ T(n) = T(\\frac{n}{2}) + T(\\frac{n}{2}) +1 = 2 T(\\frac{n}{2}) + 1 = 4 T(\\frac{n}{4}) + 2 = ...  $$\n",
        "\n",
        "Resolviendo la recurrencia, se puede comprobar que la complejidad es de **O(nlog(n))**.\n",
        "\n",
        "No parece que se pueda bajar el orden de complejidad. "
      ],
      "metadata": {
        "id": "NSWtJtgc9n0O"
      }
    },
    {
      "cell_type": "markdown",
      "source": [
        "4. Extender el algoritmo a 2D y 3D"
      ],
      "metadata": {
        "id": "fIP0oPVf9rxD"
      }
    },
    {
      "cell_type": "code",
      "source": [
        "p, d = puntosMasCercanos_DivideVenceras(sorted(lista_2D), 0, len(lista_2D) - 1)\n",
        "print( \"Los puntos más cercanos son: \", p)\n",
        "print( \"La distancia mínima es: \", d)"
      ],
      "metadata": {
        "colab": {
          "base_uri": "https://localhost:8080/",
          "height": 0
        },
        "id": "Ib7MMFPExYIX",
        "outputId": "103f49bb-37de-4bd6-8e27-90c8f0f0a16f"
      },
      "execution_count": 15,
      "outputs": [
        {
          "output_type": "stream",
          "name": "stdout",
          "text": [
            "Los puntos más cercanos son:  [[3523, 693], [3576, 2415]]\n",
            "La distancia mínima es:  1722.8154283033339\n"
          ]
        }
      ]
    },
    {
      "cell_type": "code",
      "source": [
        "p, d = puntosMasCercanos_DivideVenceras(sorted(lista_3D), 0, len(lista_3D) - 1)\n",
        "print( \"Los puntos más cercanos son: \", p)\n",
        "print( \"La distancia mínima es: \", d)"
      ],
      "metadata": {
        "colab": {
          "base_uri": "https://localhost:8080/",
          "height": 0
        },
        "id": "ComW1Ai6XNUn",
        "outputId": "28e6624f-7057-413f-a7b6-ed83e1a0b674"
      },
      "execution_count": 16,
      "outputs": [
        {
          "output_type": "stream",
          "name": "stdout",
          "text": [
            "Los puntos más cercanos son:  [[1174, 2368, 9189], [1859, 43, 8410]]\n",
            "La distancia mínima es:  2545.9165343742125\n"
          ]
        }
      ]
    }
  ]
}